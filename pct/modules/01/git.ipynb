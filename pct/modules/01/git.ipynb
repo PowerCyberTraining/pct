{
 "cells": [
  {
   "cell_type": "markdown",
   "metadata": {},
   "source": [
    "# Git and Version Control\n",
    "\n",
    "## Motivation\n",
    "\n",
    "\n",
    "Version control systems, particularly Git, are essential tools for modern power engineers working on complex projects and simulations.\n",
    "\n",
    "Have you heard of [GitHub.com](https://github.com/)? It is a place where open-source software projects shared, where researchers can find useful code from publications, and developers can collaborate without knowing each other.\n",
    "\n",
    "Powering GitHub.com is the `git` version control system. Git is originally developed by Linus Torvalds, the original developer of the Linux Kernel, for allowing thousands of people to collaborate efficiently on kernel development. By \"version control\", it means that the software code is versioned with the changes tracked. When a version of code does not work, the version control system allows the developer to roll back to a previous version. If more than one person working on the same project, they can make changes simultaneously and then \"merge\" the code whenever ready.\n",
    "\n",
    "So, how is this relevant to power engineers? It may or may not, but we want to provide a walk through so that you know the basic concepts. For example, if you found an open-source project on GitHub and want to use it, there are better ways than downloading the project as a Zip file. Also, if you wish to publish your code on GitHub, this module may be useful.\n",
    "\n",
    "\n"
   ]
  },
  {
   "cell_type": "markdown",
   "metadata": {},
   "source": []
  }
 ],
 "metadata": {
  "language_info": {
   "name": "python"
  }
 },
 "nbformat": 4,
 "nbformat_minor": 2
}
